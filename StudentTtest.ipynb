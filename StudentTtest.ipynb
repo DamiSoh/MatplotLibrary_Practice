{
  "nbformat": 4,
  "nbformat_minor": 0,
  "metadata": {
    "colab": {
      "name": "blog.3.ipynb",
      "provenance": []
    },
    "kernelspec": {
      "name": "python3",
      "display_name": "Python 3"
    },
    "language_info": {
      "name": "python"
    }
  },
  "cells": [
    {
      "cell_type": "markdown",
      "metadata": {
        "id": "SI__MVoTs6ZP"
      },
      "source": [
        "##Student T-test \n",
        "\n",
        "\n",
        "T- 검정은 모집단의 분산이나 표준편차를 알지 못할 때, 표본으로부터 추정된 분산이나 표준편차를 이용하여 두 모집단의 평균의 차이를 알아보는 검정 방법이다. 집단의 수는 최대 2개까지 비교 가능하며 3개 이상인 경우 분산분석(ANOVA)를 사용한다.\n",
        "\n",
        "'평균'을 비교하는 분석임을 잊지말자.\n"
      ]
    },
    {
      "cell_type": "markdown",
      "metadata": {
        "id": "odmaI5fztCMn"
      },
      "source": [
        "**T-검정의 가정**\n",
        "\n",
        "1)종속변수가 양적 변수일 때\n",
        "\n",
        "2)모집단의 분산이나 표준편차를 알지 못할 때\n",
        "\n",
        "3)모집단의 분포가 정규분포일 때"
      ]
    },
    {
      "cell_type": "markdown",
      "metadata": {
        "id": "bH8bRBPStEyC"
      },
      "source": [
        "###One Sample T-test\n",
        "\n",
        "1개의 샘플(표본) 평균이 특정값(or 모집단)의 평균과 같은지/다른지를 판단\n",
        "\n",
        "![One Sample T Statistic](https://www.statisticshowto.com/wp-content/uploads/2015/09/t-score.jpg)\n",
        "\n",
        "귀무가설: $\\mu = \\bar{X} $ 평균이 같다\n",
        "\n",
        "대립가설: $\\mu \\neq \\bar{X}$ X 같지 않다\n",
        "\n",
        "(1) 귀무가설 설정 $H_0: \\mu = \\bar{x}$\n",
        "\n",
        "(2) 대안가설 설정 $H_1: \\mu \\neq \\bar{x}$\n",
        "\n",
        "(3) 신뢰도 설정(Confidence Level) : 모수가 신뢰구간에 포함될 확률 (보통 95%)\n",
        "\n",
        "    모수가 신뢰 구간 안에 포함될 확률이 95%\n",
        "    귀무가설이 틀렸지만 우연히 성립할 확률이 5%\n",
        "\n",
        "(4) P-value를 확인 \n",
        "\n",
        "    P-value 는, 주어진 가설에 대해서 \"얼마나 근거가 있는지\"에 대한 값을 \n",
        "    0과 1사이의 값으로 scale한 지표 이며 \n",
        "    p-value가 낮다는 것은, 그 다름이 우연히 다를 가능성이 낮다는 것을 말한다.\n",
        "\n",
        "\n",
        "\" *p-value가 (1-Confidence)보다 낮은 경우, 귀무가설을 기각하고 대안 가설을 채택함* \""
      ]
    },
    {
      "cell_type": "markdown",
      "metadata": {
        "id": "urkNj4LotSt8"
      },
      "source": [
        "`1) t-value > Critical Value : 귀무가설 기각`\n",
        "\n",
        "`2) p-value < alpha : 귀무가설 기각`\n"
      ]
    },
    {
      "cell_type": "code",
      "metadata": {
        "colab": {
          "base_uri": "https://localhost:8080/"
        },
        "id": "eHW1ySZjtVmj",
        "outputId": "f1ee56bb-9266-467e-d302-4325deab40ca"
      },
      "source": [
        "from scipy import stats\n",
        "import numpy as np\n",
        "\n",
        "np.random.seed(42)\n",
        "binomial_test = np.random.binomial(n = 1, p = 0.5, size = 100) \n",
        "\n",
        "binomial_test"
      ],
      "execution_count": 4,
      "outputs": [
        {
          "output_type": "execute_result",
          "data": {
            "text/plain": [
              "array([0, 1, 1, 1, 0, 0, 0, 1, 1, 1, 0, 1, 1, 0, 0, 0, 0, 1, 0, 0, 1, 0,\n",
              "       0, 0, 0, 1, 0, 1, 1, 0, 1, 0, 0, 1, 1, 1, 0, 0, 1, 0, 0, 0, 0, 1,\n",
              "       0, 1, 0, 1, 1, 0, 1, 1, 1, 1, 1, 1, 0, 0, 0, 0, 0, 0, 1, 0, 0, 1,\n",
              "       0, 1, 0, 1, 1, 0, 0, 1, 1, 1, 1, 0, 0, 0, 1, 1, 0, 0, 0, 0, 1, 1,\n",
              "       1, 0, 0, 1, 1, 1, 1, 0, 1, 0, 0, 0])"
            ]
          },
          "metadata": {
            "tags": []
          },
          "execution_count": 4
        }
      ]
    },
    {
      "cell_type": "code",
      "metadata": {
        "colab": {
          "base_uri": "https://localhost:8080/"
        },
        "id": "1T7bMDR6t-f5",
        "outputId": "9eccd15c-9d17-4763-9e13-190edd6d4262"
      },
      "source": [
        "binomial_test.mean()"
      ],
      "execution_count": 8,
      "outputs": [
        {
          "output_type": "execute_result",
          "data": {
            "text/plain": [
              "0.47"
            ]
          },
          "metadata": {
            "tags": []
          },
          "execution_count": 8
        }
      ]
    },
    {
      "cell_type": "code",
      "metadata": {
        "colab": {
          "base_uri": "https://localhost:8080/"
        },
        "id": "EfXZb3xAtoMl",
        "outputId": "1bc439ba-8539-4d57-e57e-64792f7f8923"
      },
      "source": [
        "stats.ttest_1samp(binomial_test, .5) #0.5는 비교대상(혹은 모집단)의 평균"
      ],
      "execution_count": 5,
      "outputs": [
        {
          "output_type": "execute_result",
          "data": {
            "text/plain": [
              "Ttest_1sampResult(statistic=-0.5980699588110716, pvalue=0.5511590111236772)"
            ]
          },
          "metadata": {
            "tags": []
          },
          "execution_count": 5
        }
      ]
    },
    {
      "cell_type": "markdown",
      "metadata": {
        "id": "cFQNUX2Pt6ey"
      },
      "source": [
        "0.47 (mean)과 0.5(mean)이 동일한지 확인하기   \n",
        "p-value가 0.05보다 크므로 귀무가설 채택. 둘의 평균은 같다고 볼 수 있다.\n",
        "\n",
        "***귀무가설 채택: $\\mu = \\bar{X} $***"
      ]
    },
    {
      "cell_type": "markdown",
      "metadata": {
        "id": "2dONLz_6un9j"
      },
      "source": [
        "### Two Sample T-test\n",
        "\n",
        "위에서는 one sample 티테스트를 하였다면, 이제 \n",
        "2개의 sample 값들의 평균이 통계적으로 같은지, 다른지 확인해보겠습니다. \n",
        "\n",
        "1) 귀무가설 : 두 확률은 같다 (차이가 없다).\n",
        "\n",
        "$H_0: \\bar{x}_1 = \\bar{x}_2$\n",
        "\n",
        "2) 대안가설 : 같지 않다\n",
        "\n",
        "$H_1: \\bar{x}_1 \\neq \\bar{x}_2$\n",
        "\n",
        "3) 신뢰도 : 95%"
      ]
    },
    {
      "cell_type": "markdown",
      "metadata": {
        "id": "bYfiToepvUt2"
      },
      "source": [
        "각각 평균을 p = 0.5로 두고 샘플링 하겠습니다."
      ]
    },
    {
      "cell_type": "code",
      "metadata": {
        "colab": {
          "base_uri": "https://localhost:8080/"
        },
        "id": "VS4fN30KuuRl",
        "outputId": "ce2d00a3-10c7-496a-cf6d-9e8098e6ee2c"
      },
      "source": [
        "np.random.seed(42)\n",
        "\n",
        "sample1 = np.random.binomial(n = 1, p = 0.5, size = 100)\n",
        "sample2 = np.random.binomial(n = 1, p = 0.5, size = 200)\n",
        "\n",
        "print(sample1.mean())\n",
        "print(sample2.mean())\n",
        "\n",
        "stats.ttest_ind(sample1, sample2) # 둘의 평균은 같다."
      ],
      "execution_count": 10,
      "outputs": [
        {
          "output_type": "stream",
          "text": [
            "0.47\n",
            "0.545\n"
          ],
          "name": "stdout"
        },
        {
          "output_type": "execute_result",
          "data": {
            "text/plain": [
              "Ttest_indResult(statistic=-1.2247037746390195, pvalue=0.2216540739417425)"
            ]
          },
          "metadata": {
            "tags": []
          },
          "execution_count": 10
        }
      ]
    },
    {
      "cell_type": "markdown",
      "metadata": {
        "id": "W6UMGcmrvYPM"
      },
      "source": [
        "> 귀무가설 (둘의 평균이 다르지않다)가 채택되는 결과값이 나왔습니다."
      ]
    },
    {
      "cell_type": "markdown",
      "metadata": {
        "id": "Gxrwo6vuve63"
      },
      "source": [
        "이번에는 평균의 차이를 두고 샘플링을 해보겠습니다."
      ]
    },
    {
      "cell_type": "code",
      "metadata": {
        "colab": {
          "base_uri": "https://localhost:8080/"
        },
        "id": "YYkbCS6pu65m",
        "outputId": "b56d2442-17ad-413d-b071-4db9f200fe6b"
      },
      "source": [
        "np.random.seed(42)\n",
        "\n",
        "sample3 = np.random.binomial(n = 1, p = 0.7, size = 100)\n",
        "sample4 = np.random.binomial(n = 1, p = 0.5, size = 200)\n",
        "\n",
        "print(sample3.mean())\n",
        "print(sample4.mean())\n",
        "\n",
        "stats.ttest_ind(sample3, sample4) # 둘의 평균은 같지 않다"
      ],
      "execution_count": 11,
      "outputs": [
        {
          "output_type": "stream",
          "text": [
            "0.7\n",
            "0.545\n"
          ],
          "name": "stdout"
        },
        {
          "output_type": "execute_result",
          "data": {
            "text/plain": [
              "Ttest_indResult(statistic=2.600202846578567, pvalue=0.00978123211440728)"
            ]
          },
          "metadata": {
            "tags": []
          },
          "execution_count": 11
        }
      ]
    },
    {
      "cell_type": "markdown",
      "metadata": {
        "id": "PuN1W1bTviMh"
      },
      "source": [
        "> 결과 p-value가 0.05보다 작습니다. 이 경우 귀무가설을 기각하고, **대립가설: 둘의 평균은 같지 않다.**가 채택됩니다. "
      ]
    }
  ]
}